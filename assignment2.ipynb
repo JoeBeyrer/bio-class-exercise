{
 "cells": [
  {
   "cell_type": "markdown",
   "metadata": {},
   "source": [
    "# Load Data"
   ]
  },
  {
   "cell_type": "code",
   "execution_count": 7,
   "metadata": {},
   "outputs": [],
   "source": [
    "import tarfile\n",
    "import csv\n",
    "import pandas as pd"
   ]
  },
  {
   "cell_type": "code",
   "execution_count": 2,
   "metadata": {},
   "outputs": [],
   "source": [
    "fname = '20news-bydate-matlab.tgz'\n",
    "tar = tarfile.open(fname, \"r:gz\")\n",
    "tar.extractall()\n",
    "tar.close()\n"
   ]
  },
  {
   "cell_type": "code",
   "execution_count": 33,
   "metadata": {},
   "outputs": [],
   "source": [
    "counts = {}\n",
    "train_data = pd.read_csv('train.data', sep=' ', header=None, names=['document', 'word', 'frequency'])\n",
    "train_data['label'] = pd.read_csv('train.label', header=None)\n",
    "test_data = pd.read_csv('test.data', sep=' ', header=None, names=['document', 'word', 'frequency'])\n",
    "test_data['label'] = pd.read_csv('test.label', header=None)\n",
    "\n",
    "\n",
    "counts = train_data['word'].value_counts()\n",
    "counts = counts[counts >= 1000]\n",
    "\n",
    "train_data = train_data[train_data['word'].isin(counts.index)]\n",
    "test_data = test_data[test_data['word'].isin(counts.index)]\n"
   ]
  },
  {
   "cell_type": "code",
   "execution_count": 34,
   "metadata": {},
   "outputs": [],
   "source": [
    "X_train = train_data[['document', 'word', 'frequency']]\n",
    "y_train = train_data['label']\n",
    "X_test = test_data[['document', 'word', 'frequency']]\n",
    "y_test = test_data['label']"
   ]
  }
 ],
 "metadata": {
  "kernelspec": {
   "display_name": "Python 3",
   "language": "python",
   "name": "python3"
  },
  "language_info": {
   "codemirror_mode": {
    "name": "ipython",
    "version": 3
   },
   "file_extension": ".py",
   "mimetype": "text/x-python",
   "name": "python",
   "nbconvert_exporter": "python",
   "pygments_lexer": "ipython3",
   "version": "3.11.0"
  }
 },
 "nbformat": 4,
 "nbformat_minor": 2
}
